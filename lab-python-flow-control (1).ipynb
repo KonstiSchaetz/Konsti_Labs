{
 "cells": [
  {
   "cell_type": "markdown",
   "id": "d3bfc191-8885-42ee-b0a0-bbab867c6f9f",
   "metadata": {
    "tags": []
   },
   "source": [
    "# Lab | Flow Control"
   ]
  },
  {
   "cell_type": "code",
   "execution_count": null,
   "id": "2d2825a4",
   "metadata": {},
   "outputs": [],
   "source": []
  },
  {
   "cell_type": "markdown",
   "id": "3851fcd1-cf98-4653-9c89-e003b7ec9400",
   "metadata": {},
   "source": [
    "## Exercise: Managing Customer Orders Optimized\n",
    "\n",
    "In the last lab, you were starting an online store that sells various products. To ensure smooth operations, you developed a program that manages customer orders and inventory.\n",
    "\n",
    "You did so without using flow control. Let's go a step further and improve this code.\n",
    "\n",
    "Follow the steps below to complete the exercise:\n",
    "\n",
    "1. Look at your code from the lab data structures, and improve repeated code with loops.\n",
    "\n",
    "2. Instead of asking the user to input the name of three products that a customer wants to order, do the following:\n",
    "    \n",
    "    a. Prompt the user to enter the name of a product that a customer wants to order.\n",
    "    \n",
    "    b. Add the product name to the \"customer_orders\" set.\n",
    "    \n",
    "    c. Ask the user if they want to add another product (yes/no).\n",
    "    \n",
    "    d. Continue the loop until the user does not want to add another product.\n",
    "\n",
    "3. Instead of updating the inventory by subtracting 1 from the quantity of each product, only do it for  the products that were ordered (those in \"customer_orders\")."
   ]
  },
  {
   "cell_type": "code",
   "execution_count": 51,
   "id": "38226223",
   "metadata": {},
   "outputs": [
    {
     "name": "stdout",
     "output_type": "stream",
     "text": [
      "Enter quantity of product 50\n",
      "Enter quantity of product 40\n",
      "Enter quantity of product 30\n",
      "Enter quantity of product 20\n",
      "Enter quantity of product 10\n",
      "{'t-shirt': 50, 'mug': 40, 'hat': 30, 'book': 20, 'keychain': 10}\n",
      "Add the following product to basket :shirt\n",
      "Add the following product to basket :hat\n",
      "Add the following product to basket :mug\n",
      "{'hat', 'shirt', 'mug'}\n",
      "{'t-shirt': 49, 'mug': 39, 'hat': 29, 'book': 19, 'keychain': 9}\n"
     ]
    }
   ],
   "source": [
    "#1\n",
    "products=[\"t-shirt\",\"mug\",\"hat\",\"book\",\"keychain\"]\n",
    "inventory = {}\n",
    "\n",
    "#add quantities to dictionary inventory\n",
    "for p in products:\n",
    "    x = int(input(\"Enter quantity of product \"))\n",
    "    inventory[p] = x\n",
    "\n",
    "print(inventory)    \n",
    "    \n",
    "#add products to set    \n",
    "customer_orders=set()\n",
    "\n",
    "for i in range(3) :\n",
    "    y = input(\"Add the following product to basket :\")\n",
    "    customer_orders.add(y) \n",
    "   \n",
    "print(customer_orders)\n",
    "\n",
    "#reduce values in dictionary\n",
    "for i in inventory:\n",
    "    inventory[i] -= 1 \n",
    "\n",
    "print(inventory)\n"
   ]
  },
  {
   "cell_type": "code",
   "execution_count": 90,
   "id": "01083928",
   "metadata": {},
   "outputs": [
    {
     "name": "stdout",
     "output_type": "stream",
     "text": [
      "which product to you want to add to the basket :hat\n",
      "{'hat', 't-shirt', 'mug'}\n",
      "do you want to add another product to the basket? no\n"
     ]
    }
   ],
   "source": [
    "#2 \n",
    "\n",
    "product = input(\"which product to you want to add to the basket :\")\n",
    "customer_orders.add(product)\n",
    "print(customer_orders)\n",
    "new_product = input(\"do you want to add another product to the basket? \")\n",
    "\n",
    "while new_product == \"yes\":\n",
    "    product = input(\"which product to you want to add to the basket :\") \n",
    "    customer_orders.add(product)\n",
    "    print(customer_orders)\n",
    "    new_product = input(\"do you want to add another product to the basket? \") \n",
    "\n",
    "    \n",
    "\n",
    "    "
   ]
  },
  {
   "cell_type": "code",
   "execution_count": 133,
   "id": "5ae28c91",
   "metadata": {},
   "outputs": [
    {
     "name": "stdout",
     "output_type": "stream",
     "text": [
      "{'t-shirt': 48, 'mug': 38, 'hat': 28, 'book': 19, 'keychain': 9}\n"
     ]
    }
   ],
   "source": [
    "#3 \n",
    "\n",
    "for product in customer_orders:\n",
    "    if product in inventory:\n",
    "        inventory[product] -=1\n",
    "\n",
    "print(inventory)\n",
    "    \n",
    "   \n",
    "      \n",
    "    \n",
    "    \n",
    " \n",
    "        \n",
    "        \n",
    "    "
   ]
  },
  {
   "cell_type": "code",
   "execution_count": null,
   "id": "d431b786",
   "metadata": {},
   "outputs": [],
   "source": []
  }
 ],
 "metadata": {
  "kernelspec": {
   "display_name": "Python 3 (ipykernel)",
   "language": "python",
   "name": "python3"
  },
  "language_info": {
   "codemirror_mode": {
    "name": "ipython",
    "version": 3
   },
   "file_extension": ".py",
   "mimetype": "text/x-python",
   "name": "python",
   "nbconvert_exporter": "python",
   "pygments_lexer": "ipython3",
   "version": "3.11.3"
  }
 },
 "nbformat": 4,
 "nbformat_minor": 5
}
