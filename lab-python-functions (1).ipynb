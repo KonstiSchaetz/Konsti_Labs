{
 "cells": [
  {
   "cell_type": "markdown",
   "id": "25d7736c-ba17-4aff-b6bb-66eba20fbf4e",
   "metadata": {},
   "source": [
    "# Lab | Functions"
   ]
  },
  {
   "cell_type": "markdown",
   "id": "0c581062-8967-4d93-b06e-62833222f930",
   "metadata": {
    "tags": []
   },
   "source": [
    "## Exercise: Managing Customer Orders with Functions\n",
    "\n",
    "In the previous exercise, you improved the code for managing customer orders by using loops and flow control. Now, let's take it a step further and refactor the code by introducing functions.\n",
    "\n",
    "Follow the steps below to complete the exercise:\n",
    "\n",
    "1. Define a function named `initialize_inventory` that takes `products` as a parameter. Inside the function, implement the code for initializing the inventory dictionary using a loop and user input.\n",
    "\n",
    "2. Define a function named `get_customer_orders` that takes no parameters. Inside the function, implement the code for prompting the user to enter the product names using a loop. The function should return the `customer_orders` set.\n",
    "\n",
    "3. Define a function named `update_inventory` that takes `customer_orders` and `inventory` as parameters. Inside the function, implement the code for updating the inventory dictionary based on the customer orders.\n",
    "\n",
    "4. Define a function named `calculate_order_statistics` that takes `customer_orders` and `products` as parameters. Inside the function, implement the code for calculating the order statistics (total products ordered, and percentage of unique products ordered). The function should return these values.\n",
    "\n",
    "5. Define a function named `print_order_statistics` that takes `order_statistics` as a parameter. Inside the function, implement the code for printing the order statistics.\n",
    "\n",
    "6. Define a function named `print_updated_inventory` that takes `inventory` as a parameter. Inside the function, implement the code for printing the updated inventory.\n",
    "\n",
    "7. Call the functions in the appropriate sequence to execute the program and manage customer orders.\n",
    "\n",
    "Hints for functions:\n",
    "\n",
    "- Consider the input parameters required for each function and their return values.\n",
    "- Utilize function parameters and return values to transfer data between functions.\n",
    "- Test your functions individually to ensure they work correctly.\n",
    "\n",
    "\n"
   ]
  },
  {
   "cell_type": "code",
   "execution_count": 8,
   "id": "be2fd06b",
   "metadata": {},
   "outputs": [
    {
     "name": "stdout",
     "output_type": "stream",
     "text": [
      "Enter quantity of product 50\n",
      "Enter quantity of product 40\n",
      "Enter quantity of product 20\n",
      "Enter quantity of product 30\n",
      "Enter quantity of product 10\n",
      "which product to you want to add to the basket :book\n",
      "{'book'}\n",
      "do you want to add another product to the basket? mug\n"
     ]
    },
    {
     "data": {
      "text/plain": [
       "{'t-shirt': 50, 'mug': 40, 'hat': 20, 'book': 29, 'keychain': 10}"
      ]
     },
     "execution_count": 8,
     "metadata": {},
     "output_type": "execute_result"
    }
   ],
   "source": [
    "#1 initialize inventory\n",
    "\n",
    "products=[\"t-shirt\",\"mug\",\"hat\",\"book\",\"keychain\"]\n",
    "\n",
    "def initialize_inventory(products):\n",
    "    inventory = {}\n",
    "    customer_orders = set()\n",
    "    \n",
    "    for p in products:\n",
    "        x = int(input(\"Enter quantity of product \"))\n",
    "        inventory[p] = x\n",
    "    \n",
    "    product = input(\"which product do you want to add to the basket :\")\n",
    "    customer_orders.add(product)\n",
    "    print(customer_orders)\n",
    "    new_product = input(\"do you want to add another product to the basket? \")\n",
    "    \n",
    "    while new_product == \"yes\":\n",
    "        product = input(\"which product to you want to add to the basket :\") \n",
    "        customer_orders.add(product)\n",
    "        print(customer_orders)\n",
    "        new_product = input(\"do you want to add another product to the basket? \") \n",
    "    \n",
    "    for product in customer_orders:\n",
    "        if product in inventory:\n",
    "            inventory[product] -=1\n",
    "    \n",
    "    return inventory\n",
    "\n",
    "initialize_inventory(products)\n",
    "    "
   ]
  },
  {
   "cell_type": "code",
   "execution_count": null,
   "id": "40132c3c",
   "metadata": {},
   "outputs": [],
   "source": []
  },
  {
   "cell_type": "code",
   "execution_count": 22,
   "id": "4e23e106",
   "metadata": {},
   "outputs": [],
   "source": [
    "#alternative to 1\n",
    "products=[\"t-shirt\",\"mug\",\"hat\",\"book\",\"keychain\"]\n",
    "\n",
    "def initialize_inventory(products):\n",
    "    inventory = {}\n",
    "    customer_orders = set()\n",
    "    \n",
    "    for p in products:\n",
    "        x = int(input(\"Enter quantity of product \"))\n",
    "        inventory[p] = x\n",
    "        \n",
    "    return inventory    "
   ]
  },
  {
   "cell_type": "code",
   "execution_count": 23,
   "id": "ef5f7c36",
   "metadata": {},
   "outputs": [
    {
     "name": "stdout",
     "output_type": "stream",
     "text": [
      "which product to you want to add to the basket :mug\n",
      "{'mug'}\n",
      "do you want to add another product to the basket? yes\n",
      "which product to you want to add to the basket :mug\n",
      "{'mug'}\n",
      "do you want to add another product to the basket? no\n"
     ]
    },
    {
     "data": {
      "text/plain": [
       "{'mug'}"
      ]
     },
     "execution_count": 23,
     "metadata": {},
     "output_type": "execute_result"
    }
   ],
   "source": [
    "#2 get customer order\n",
    "\n",
    "def get_customer_orders():\n",
    "    customer_orders = set()\n",
    "        \n",
    "    product = input(\"which product do you want to add to the basket :\")\n",
    "    customer_orders.add(product)\n",
    "    print(customer_orders)\n",
    "    new_product = input(\"do you want to add another product to the basket? \")\n",
    "    \n",
    "    while new_product == \"yes\":\n",
    "        product = input(\"which product to you want to add to the basket :\") \n",
    "        customer_orders.add(product)\n",
    "        print(customer_orders)\n",
    "        new_product = input(\"do you want to add another product to the basket? \") \n",
    "        \n",
    "    return customer_orders\n",
    "\n",
    "get_customer_orders()\n"
   ]
  },
  {
   "cell_type": "code",
   "execution_count": null,
   "id": "de5e75f6",
   "metadata": {},
   "outputs": [],
   "source": [
    "#3 \n",
    "# entails mistake: one can add additional keys to inventory\n",
    "\n",
    "products=[\"t-shirt\",\"mug\",\"hat\",\"book\",\"keychain\"]\n",
    "inventory = {}\n",
    "customer_orders = set()\n",
    "\n",
    "def update_inventory(inventory, customer_orders):\n",
    "    \n",
    "    for p in products:\n",
    "        x = int(input(\"Enter quantity of product \"))\n",
    "        inventory[p] = x\n",
    "    \n",
    "    product = input(\"which product to you want to add to the basket :\")\n",
    "    customer_orders.add(product)\n",
    "    print(customer_orders)\n",
    "    new_product = input(\"do you want to add another product to the basket? \")\n",
    "    \n",
    "    while new_product == \"yes\":\n",
    "        product = input(\"which product to you want to add to the basket :\") \n",
    "        customer_orders.add(product)\n",
    "        print(customer_orders)\n",
    "        new_product = input(\"do you want to add another product to the basket? \") \n",
    "    \n",
    "    for product in customer_orders:\n",
    "        if product in inventory:\n",
    "            inventory[product] -=1\n",
    "    \n",
    "    return inventory, customer_orders\n",
    "\n",
    "update_inventory(inventory,customer_orders)"
   ]
  },
  {
   "cell_type": "code",
   "execution_count": 123,
   "id": "2abd9417",
   "metadata": {},
   "outputs": [
    {
     "name": "stdout",
     "output_type": "stream",
     "text": [
      "Enter quantity of product 30\n",
      "Enter quantity of product 30\n",
      "Enter quantity of product 20\n",
      "Enter quantity of product 40\n",
      "Enter quantity of product 30\n",
      "which product to you want to add to the basket :hat\n",
      "{'hat'}\n",
      "do you want to add another product to the basket? yes\n",
      "which product to you want to add to the basket :book\n",
      "{'hat', 'book'}\n",
      "do you want to add another product to the basket? yes\n",
      "which product to you want to add to the basket :t-shirt\n",
      "{'hat', 't-shirt', 'book'}\n",
      "do you want to add another product to the basket? no\n"
     ]
    },
    {
     "data": {
      "text/plain": [
       "{}"
      ]
     },
     "execution_count": 123,
     "metadata": {},
     "output_type": "execute_result"
    }
   ],
   "source": [
    "#alternative to 3: rather in align with lab assignment but with mistake, as the set is empty\n",
    "\n",
    "\"\"\"\n",
    "\n",
    "products=[\"t-shirt\",\"mug\",\"hat\",\"book\",\"keychain\"]\n",
    "inventory = {}\n",
    "customer_orders = set()\n",
    "\n",
    "def update_inventory(inventory, customer_orders):\n",
    "    initialize_inventory(products)\n",
    "    get_customer_orders()\n",
    "    \n",
    "    for product in customer_orders:\n",
    "        if product in inventory:\n",
    "            inventory[product] -=1\n",
    "            \n",
    "    return inventory\n",
    "\n",
    "update_inventory(inventory,customer_orders)\n",
    " \n",
    "\"\"\""
   ]
  },
  {
   "cell_type": "code",
   "execution_count": null,
   "id": "f57ae184",
   "metadata": {},
   "outputs": [],
   "source": []
  },
  {
   "cell_type": "code",
   "execution_count": 124,
   "id": "f18c1eb3",
   "metadata": {},
   "outputs": [
    {
     "data": {
      "text/plain": [
       "set()"
      ]
     },
     "execution_count": 124,
     "metadata": {},
     "output_type": "execute_result"
    }
   ],
   "source": [
    "customer_orders"
   ]
  },
  {
   "cell_type": "code",
   "execution_count": 76,
   "id": "f65b92cd",
   "metadata": {},
   "outputs": [
    {
     "data": {
      "text/plain": [
       "2"
      ]
     },
     "execution_count": 76,
     "metadata": {},
     "output_type": "execute_result"
    }
   ],
   "source": [
    "total_products_ordered"
   ]
  },
  {
   "cell_type": "code",
   "execution_count": 79,
   "id": "911fa952",
   "metadata": {},
   "outputs": [],
   "source": [
    "customer_orders"
   ]
  },
  {
   "cell_type": "code",
   "execution_count": 98,
   "id": "75907af5",
   "metadata": {},
   "outputs": [
    {
     "name": "stdout",
     "output_type": "stream",
     "text": [
      "products ordered:  2 ,percent of unique products: 100.0\n"
     ]
    }
   ],
   "source": [
    "#4 order statistics\n",
    "\n",
    "\n",
    "def calculate_order_statistics(customer_orders,products): #this customer_orders argument is the input of the function and does not refer to the set customer_orders, here it is an integer\n",
    "    count_products = 0\n",
    "    for i in range(customer_orders):\n",
    "        count_products +=1\n",
    "\n",
    "    total_products_ordered = count_products    \n",
    " \n",
    "    unique_orders = customer_orders\n",
    "       \n",
    "    percentage_uniques = (unique_orders/total_products_ordered)*100 \n",
    "    \n",
    "    return total_products_ordered, percentage_uniques\n",
    "\n",
    "calculate_order_statistics(total_products_ordered,percentage_uniques)\n",
    "\n",
    "print(\"products ordered: \", total_products_ordered, \",percent of unique products:\", percentage_uniques)\n",
    "\n",
    "\n",
    "        \n"
   ]
  },
  {
   "cell_type": "code",
   "execution_count": 118,
   "id": "b15b249c",
   "metadata": {},
   "outputs": [
    {
     "name": "stdout",
     "output_type": "stream",
     "text": [
      "total order: 2\n",
      "share of unique products: 100.0 %\n"
     ]
    },
    {
     "data": {
      "text/plain": [
       "(2, 100.0)"
      ]
     },
     "execution_count": 118,
     "metadata": {},
     "output_type": "execute_result"
    }
   ],
   "source": [
    "#5 print order statistics\n",
    " \n",
    "def print_order_statistics(order_statistics):\n",
    "    print(\"total order:\", total_products_ordered)\n",
    "    print(\"share of unique products:\",percentage_uniques,\"%\")\n",
    "    \n",
    "    return total_products_ordered, percentage_uniques\n",
    "\n",
    "print_order_statistics(customer_orders)   "
   ]
  },
  {
   "cell_type": "code",
   "execution_count": 119,
   "id": "3cbd121d",
   "metadata": {},
   "outputs": [
    {
     "data": {
      "text/plain": [
       "({'t-shirt': 48, 'mug': 38, 'hat': 30, 'book': 20, 'keychain': 10},\n",
       " {'mug', 't-shirt'})"
      ]
     },
     "execution_count": 119,
     "metadata": {},
     "output_type": "execute_result"
    }
   ],
   "source": [
    "def print_updated_inventory(inventory):\n",
    "    for product in customer_orders:\n",
    "        if product in inventory:\n",
    "            inventory[product] -=1\n",
    "    \n",
    "    return inventory, customer_orders\n",
    "\n",
    "print_updated_inventory(inventory)\n",
    "          "
   ]
  },
  {
   "cell_type": "code",
   "execution_count": 120,
   "id": "546e4a07",
   "metadata": {},
   "outputs": [],
   "source": [
    "# 7 is equal to 3"
   ]
  }
 ],
 "metadata": {
  "kernelspec": {
   "display_name": "Python 3 (ipykernel)",
   "language": "python",
   "name": "python3"
  },
  "language_info": {
   "codemirror_mode": {
    "name": "ipython",
    "version": 3
   },
   "file_extension": ".py",
   "mimetype": "text/x-python",
   "name": "python",
   "nbconvert_exporter": "python",
   "pygments_lexer": "ipython3",
   "version": "3.11.3"
  }
 },
 "nbformat": 4,
 "nbformat_minor": 5
}
