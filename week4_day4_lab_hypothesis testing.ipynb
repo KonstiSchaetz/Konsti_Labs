{
 "cells": [
  {
   "cell_type": "markdown",
   "id": "dad7a91d",
   "metadata": {},
   "source": [
    "# Lab Hypothesis Testing"
   ]
  },
  {
   "cell_type": "code",
   "execution_count": 1,
   "id": "70cc12c5",
   "metadata": {},
   "outputs": [],
   "source": [
    "import numpy as np\n",
    "import pandas as pd\n",
    "import scipy.stats as stats\n",
    "import matplotlib.pyplot as plt\n",
    "import seaborn as sns\n",
    "\n",
    "%matplotlib inline"
   ]
  },
  {
   "cell_type": "code",
   "execution_count": 3,
   "id": "6c5f0917",
   "metadata": {},
   "outputs": [],
   "source": [
    "mu = 120\n",
    "n = 100\n",
    "x_ = 130.1\n",
    "std = 21.21\n",
    "\n",
    "# is the group statistically different from the regular population?\n",
    "\n",
    "# H0: mu = 120\n",
    "# H1: mu > 120"
   ]
  },
  {
   "cell_type": "code",
   "execution_count": 4,
   "id": "d86b15de",
   "metadata": {},
   "outputs": [
    {
     "data": {
      "text/plain": [
       "4.761904761904759"
      ]
     },
     "execution_count": 4,
     "metadata": {},
     "output_type": "execute_result"
    }
   ],
   "source": [
    "z_score = (x_ - mu)/(std/np.sqrt(n))\n",
    "z_score"
   ]
  },
  {
   "cell_type": "code",
   "execution_count": 5,
   "id": "03eee039",
   "metadata": {},
   "outputs": [
    {
     "data": {
      "text/plain": [
       "1.6448536269514722"
      ]
     },
     "execution_count": 5,
     "metadata": {},
     "output_type": "execute_result"
    }
   ],
   "source": [
    "cv = stats.norm.ppf(0.95)\n",
    "cv"
   ]
  },
  {
   "cell_type": "code",
   "execution_count": 9,
   "id": "bbe65621",
   "metadata": {},
   "outputs": [
    {
     "name": "stdout",
     "output_type": "stream",
     "text": [
      "True\n",
      "the H0 can be rejected at a confidence interval of 95%, the people from the Honolulu Heart Study have significantly larger blood pressure\n"
     ]
    }
   ],
   "source": [
    "print(z_score > cv)\n",
    "print('the H0 can be rejected at a confidence interval of 95%, the people from the Honolulu Heart Study have significantly larger blood pressure')"
   ]
  },
  {
   "cell_type": "code",
   "execution_count": null,
   "id": "3611da1a",
   "metadata": {},
   "outputs": [],
   "source": [
    "# 2 sample t-test: test if two samples are different"
   ]
  }
 ],
 "metadata": {
  "kernelspec": {
   "display_name": "Python 3 (ipykernel)",
   "language": "python",
   "name": "python3"
  },
  "language_info": {
   "codemirror_mode": {
    "name": "ipython",
    "version": 3
   },
   "file_extension": ".py",
   "mimetype": "text/x-python",
   "name": "python",
   "nbconvert_exporter": "python",
   "pygments_lexer": "ipython3",
   "version": "3.11.3"
  }
 },
 "nbformat": 4,
 "nbformat_minor": 5
}
