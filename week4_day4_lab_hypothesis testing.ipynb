{
 "cells": [
  {
   "cell_type": "markdown",
   "id": "dad7a91d",
   "metadata": {},
   "source": [
    "# Lab Hypothesis Testing"
   ]
  },
  {
   "cell_type": "markdown",
   "id": "eb04859a",
   "metadata": {},
   "source": [
    "It is assumed that the mean systolic blood pressure is μ = 120 mm Hg. In the Honolulu Heart Study, a sample of n = 100 people had an average systolic blood pressure of 130.1 mm Hg with a standard deviation of 21.21 mm Hg. Is the group significantly different (with respect to systolic blood pressure!) from the regular population?\n",
    "\n",
    "Set up the hypothesis test.\n",
    "Write down all the steps followed for setting up the test.\n",
    "Calculate the test statistic by hand and also code it in Python. It should be 4.76190. What decision can you make based on this calculated value?"
   ]
  },
  {
   "cell_type": "code",
   "execution_count": 1,
   "id": "70cc12c5",
   "metadata": {},
   "outputs": [],
   "source": [
    "import numpy as np\n",
    "import pandas as pd\n",
    "import scipy.stats as stats\n",
    "import matplotlib.pyplot as plt\n",
    "import seaborn as sns\n",
    "\n",
    "%matplotlib inline"
   ]
  },
  {
   "cell_type": "code",
   "execution_count": 84,
   "id": "6c5f0917",
   "metadata": {},
   "outputs": [],
   "source": [
    "mu = 120\n",
    "n = 100\n",
    "x_ = 130.1\n",
    "s = 21.21   #std. from sample (not population) therefore use t-statistics!\n",
    "\n",
    "# is the group statistically different from the regular population?\n",
    "\n",
    "# H0: mu = 120\n",
    "# H1: mu ≠ 120"
   ]
  },
  {
   "cell_type": "code",
   "execution_count": 85,
   "id": "d86b15de",
   "metadata": {},
   "outputs": [
    {
     "data": {
      "text/plain": [
       "4.761904761904759"
      ]
     },
     "execution_count": 85,
     "metadata": {},
     "output_type": "execute_result"
    }
   ],
   "source": [
    "t_score = (x_ - mu)/(s/np.sqrt(n))\n",
    "t_score"
   ]
  },
  {
   "cell_type": "code",
   "execution_count": 79,
   "id": "03eee039",
   "metadata": {},
   "outputs": [
    {
     "data": {
      "text/plain": [
       "1.9842169515086827"
      ]
     },
     "execution_count": 79,
     "metadata": {},
     "output_type": "execute_result"
    }
   ],
   "source": [
    "cv = stats.t.ppf(0.975, 99)\n",
    "cv"
   ]
  },
  {
   "cell_type": "code",
   "execution_count": 82,
   "id": "bbe65621",
   "metadata": {},
   "outputs": [
    {
     "name": "stdout",
     "output_type": "stream",
     "text": [
      "True\n",
      "the H0 can be rejected at a confidence interval of 95%, the people from the Honolulu Heart Study have significantly larger blood pressure\n"
     ]
    }
   ],
   "source": [
    "print(t_score > cv)\n",
    "print('the H0 can be rejected at a confidence interval of 95%, the people from the Honolulu Heart Study have significantly larger blood pressure')"
   ]
  },
  {
   "cell_type": "markdown",
   "id": "88741db5",
   "metadata": {},
   "source": [
    "## optional"
   ]
  },
  {
   "cell_type": "code",
   "execution_count": null,
   "id": "3611da1a",
   "metadata": {},
   "outputs": [],
   "source": [
    "# 2 sample t-test: test if two samples are different\n",
    "\n",
    "# H0: mu_new_ - mu_old = 0 / both machines are equal\n",
    "# H1: mu_new - mu_old < 0  /the new machine is better\n",
    "\n",
    "# t= (sample_mean(x1) - sample_mean(x2)) / sqrt(square(s1)/n1 + square(s2)/n2 )"
   ]
  },
  {
   "cell_type": "markdown",
   "id": "667567b1",
   "metadata": {},
   "source": [
    "In a packing plant, a machine packs cartons with jars. It is supposed that a new machine will pack faster on the average than the machine currently used. To test that hypothesis, the times it takes each machine to pack ten cartons are recorded. The results, in seconds, are shown in the tables in the file Data/machine.txt. Assume that there is sufficient evidence to conduct the t test, does the data provide sufficient evidence to show if one machine is better than the other."
   ]
  },
  {
   "cell_type": "code",
   "execution_count": 50,
   "id": "ad7354cc",
   "metadata": {},
   "outputs": [
    {
     "name": "stdout",
     "output_type": "stream",
     "text": [
      "New Machine\t  Old Machine\n",
      "42.1\t        42.7\n",
      "41\t          43.6\n",
      "41.3\t        43.8\n",
      "41.8\t        43.3\n",
      "42.4\t        42.5\n",
      "42.8\t        43.5\n",
      "43.2\t        43.1\n",
      "42.3\t        41.7\n",
      "41.8\t        44\n",
      "42.7\t        44.1\n",
      "\n"
     ]
    }
   ],
   "source": [
    "file=open(\"/Users/katharina/Documents/GitHub/DA-class-materials/Class_Materials/Statistics/Lab/Data/Data_Machine.txt\",\"r\")\n",
    "print(file.read())"
   ]
  },
  {
   "cell_type": "code",
   "execution_count": 77,
   "id": "02e67f7a",
   "metadata": {},
   "outputs": [
    {
     "data": {
      "text/html": [
       "<div>\n",
       "<style scoped>\n",
       "    .dataframe tbody tr th:only-of-type {\n",
       "        vertical-align: middle;\n",
       "    }\n",
       "\n",
       "    .dataframe tbody tr th {\n",
       "        vertical-align: top;\n",
       "    }\n",
       "\n",
       "    .dataframe thead th {\n",
       "        text-align: right;\n",
       "    }\n",
       "</style>\n",
       "<table border=\"1\" class=\"dataframe\">\n",
       "  <thead>\n",
       "    <tr style=\"text-align: right;\">\n",
       "      <th></th>\n",
       "      <th>New Machine</th>\n",
       "      <th>Old Machine</th>\n",
       "    </tr>\n",
       "  </thead>\n",
       "  <tbody>\n",
       "    <tr>\n",
       "      <th>0</th>\n",
       "      <td>42.1</td>\n",
       "      <td>42.7</td>\n",
       "    </tr>\n",
       "    <tr>\n",
       "      <th>1</th>\n",
       "      <td>41.0</td>\n",
       "      <td>43.6</td>\n",
       "    </tr>\n",
       "    <tr>\n",
       "      <th>2</th>\n",
       "      <td>41.3</td>\n",
       "      <td>43.8</td>\n",
       "    </tr>\n",
       "    <tr>\n",
       "      <th>3</th>\n",
       "      <td>41.8</td>\n",
       "      <td>43.3</td>\n",
       "    </tr>\n",
       "    <tr>\n",
       "      <th>4</th>\n",
       "      <td>42.4</td>\n",
       "      <td>42.5</td>\n",
       "    </tr>\n",
       "    <tr>\n",
       "      <th>5</th>\n",
       "      <td>42.8</td>\n",
       "      <td>43.5</td>\n",
       "    </tr>\n",
       "    <tr>\n",
       "      <th>6</th>\n",
       "      <td>43.2</td>\n",
       "      <td>43.1</td>\n",
       "    </tr>\n",
       "    <tr>\n",
       "      <th>7</th>\n",
       "      <td>42.3</td>\n",
       "      <td>41.7</td>\n",
       "    </tr>\n",
       "    <tr>\n",
       "      <th>8</th>\n",
       "      <td>41.8</td>\n",
       "      <td>44.0</td>\n",
       "    </tr>\n",
       "    <tr>\n",
       "      <th>9</th>\n",
       "      <td>42.7</td>\n",
       "      <td>44.1</td>\n",
       "    </tr>\n",
       "  </tbody>\n",
       "</table>\n",
       "</div>"
      ],
      "text/plain": [
       "   New Machine    Old Machine\n",
       "0         42.1           42.7\n",
       "1         41.0           43.6\n",
       "2         41.3           43.8\n",
       "3         41.8           43.3\n",
       "4         42.4           42.5\n",
       "5         42.8           43.5\n",
       "6         43.2           43.1\n",
       "7         42.3           41.7\n",
       "8         41.8           44.0\n",
       "9         42.7           44.1"
      ]
     },
     "execution_count": 77,
     "metadata": {},
     "output_type": "execute_result"
    }
   ],
   "source": [
    "file_path=\"/Users/katharina/Documents/GitHub/DA-class-materials/Class_Materials/Statistics/Lab/Data/Data_Machine.txt\"\n",
    "\n",
    "df = pd.read_csv(file_path, sep=\"\\t\")  # Use sep=\"\\t\" if your file is tab-separated\n",
    "df"
   ]
  },
  {
   "cell_type": "code",
   "execution_count": 41,
   "id": "d9f55698",
   "metadata": {},
   "outputs": [],
   "source": [
    "def lower_case_column_names(columns):\n",
    "    df.columns = [i.lower() for i in df.columns]\n",
    "    return df\n",
    "\n",
    "def replace_white_spaces(columns):\n",
    "    df.columns = [i.replace(\" \",\"_\") for i in df.columns]\n",
    "    return df\n",
    "\n",
    "lower_case_column_names(df)\n",
    "replace_white_spaces(df)\n",
    "\n",
    "df = df.rename(columns=lambda x: x.replace(\"__\", \"\"))\n"
   ]
  },
  {
   "cell_type": "code",
   "execution_count": 76,
   "id": "0911d0c6",
   "metadata": {},
   "outputs": [
    {
     "name": "stdout",
     "output_type": "stream",
     "text": [
      "x_ new machine:  42.14\n",
      "x_ old machine:  43.23\n",
      "sample std new machine:  0.65\n",
      "sample std old machine:  0.71\n"
     ]
    }
   ],
   "source": [
    "#mean_new = np.mean(df['new_machine'])\n",
    "\n",
    "new = df.new_machine\n",
    "old = df.old_machine\n",
    "\n",
    "x_new_ = np.mean(df['new_machine'])\n",
    "x_old_ = np.mean(df['old_machine']).round(2)\n",
    "\n",
    "s_new = round(np.std(df.new_machine),2)\n",
    "s_old = round(np.std(df.old_machine),2)\n",
    "\n",
    "print('x_ new machine: ',x_new_)\n",
    "print('x_ old machine: ',x_old_)\n",
    "print('sample std new machine: ',s_new)\n",
    "print('sample std old machine: ',s_old)"
   ]
  },
  {
   "cell_type": "code",
   "execution_count": 74,
   "id": "2697a81c",
   "metadata": {},
   "outputs": [
    {
     "name": "stdout",
     "output_type": "stream",
     "text": [
      "H0 can be rejected in 95% of the cases. Hence the new machine is statistically significant faster\n"
     ]
    }
   ],
   "source": [
    "# H0: mu_new_ - mu_old = 0 / both machines are equal\n",
    "# H1: mu_new - mu_old < 0  /the new machine is better\n",
    "\n",
    "t = (x_new_ - x_old_) / np.sqrt(np.square(s_new)/len(new) + np.square(s_old)/len(old))\n",
    "\n",
    "cv = stats.t.ppf(0.95, len(new)-1)\n",
    "\n",
    "score = t < cv\n",
    "\n",
    "if score == True:\n",
    "    print('H0 can be rejected in 95% of the cases. Hence the new machine is statistically significant faster')\n",
    "else:\n",
    "    print('H0 cannot be rejected in 95% of the cases. They are statistically significant equally fast')"
   ]
  },
  {
   "cell_type": "code",
   "execution_count": 78,
   "id": "e7b437d6",
   "metadata": {},
   "outputs": [
    {
     "data": {
      "text/plain": [
       "-3.5808023511626366"
      ]
     },
     "execution_count": 78,
     "metadata": {},
     "output_type": "execute_result"
    }
   ],
   "source": [
    "t"
   ]
  }
 ],
 "metadata": {
  "kernelspec": {
   "display_name": "Python 3 (ipykernel)",
   "language": "python",
   "name": "python3"
  },
  "language_info": {
   "codemirror_mode": {
    "name": "ipython",
    "version": 3
   },
   "file_extension": ".py",
   "mimetype": "text/x-python",
   "name": "python",
   "nbconvert_exporter": "python",
   "pygments_lexer": "ipython3",
   "version": "3.11.3"
  }
 },
 "nbformat": 4,
 "nbformat_minor": 5
}
