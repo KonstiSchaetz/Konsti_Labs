{
 "cells": [
  {
   "cell_type": "markdown",
   "id": "bdd94b80",
   "metadata": {},
   "source": [
    "## Linear Regression Example"
   ]
  },
  {
   "cell_type": "code",
   "execution_count": 1,
   "id": "3c15a84b",
   "metadata": {},
   "outputs": [],
   "source": [
    "import pandas as pd\n",
    "import numpy as np\n",
    "import seaborn as sns"
   ]
  },
  {
   "cell_type": "code",
   "execution_count": 2,
   "id": "c25ff649",
   "metadata": {},
   "outputs": [],
   "source": [
    "p_df = sns.load_dataset('penguins')"
   ]
  },
  {
   "cell_type": "code",
   "execution_count": 3,
   "id": "cf82a831",
   "metadata": {},
   "outputs": [
    {
     "data": {
      "text/html": [
       "<div>\n",
       "<style scoped>\n",
       "    .dataframe tbody tr th:only-of-type {\n",
       "        vertical-align: middle;\n",
       "    }\n",
       "\n",
       "    .dataframe tbody tr th {\n",
       "        vertical-align: top;\n",
       "    }\n",
       "\n",
       "    .dataframe thead th {\n",
       "        text-align: right;\n",
       "    }\n",
       "</style>\n",
       "<table border=\"1\" class=\"dataframe\">\n",
       "  <thead>\n",
       "    <tr style=\"text-align: right;\">\n",
       "      <th></th>\n",
       "      <th>species</th>\n",
       "      <th>island</th>\n",
       "      <th>bill_length_mm</th>\n",
       "      <th>bill_depth_mm</th>\n",
       "      <th>flipper_length_mm</th>\n",
       "      <th>body_mass_g</th>\n",
       "      <th>sex</th>\n",
       "    </tr>\n",
       "  </thead>\n",
       "  <tbody>\n",
       "    <tr>\n",
       "      <th>0</th>\n",
       "      <td>Adelie</td>\n",
       "      <td>Torgersen</td>\n",
       "      <td>39.1</td>\n",
       "      <td>18.7</td>\n",
       "      <td>181.0</td>\n",
       "      <td>3750.0</td>\n",
       "      <td>Male</td>\n",
       "    </tr>\n",
       "    <tr>\n",
       "      <th>1</th>\n",
       "      <td>Adelie</td>\n",
       "      <td>Torgersen</td>\n",
       "      <td>39.5</td>\n",
       "      <td>17.4</td>\n",
       "      <td>186.0</td>\n",
       "      <td>3800.0</td>\n",
       "      <td>Female</td>\n",
       "    </tr>\n",
       "    <tr>\n",
       "      <th>2</th>\n",
       "      <td>Adelie</td>\n",
       "      <td>Torgersen</td>\n",
       "      <td>40.3</td>\n",
       "      <td>18.0</td>\n",
       "      <td>195.0</td>\n",
       "      <td>3250.0</td>\n",
       "      <td>Female</td>\n",
       "    </tr>\n",
       "    <tr>\n",
       "      <th>3</th>\n",
       "      <td>Adelie</td>\n",
       "      <td>Torgersen</td>\n",
       "      <td>NaN</td>\n",
       "      <td>NaN</td>\n",
       "      <td>NaN</td>\n",
       "      <td>NaN</td>\n",
       "      <td>NaN</td>\n",
       "    </tr>\n",
       "    <tr>\n",
       "      <th>4</th>\n",
       "      <td>Adelie</td>\n",
       "      <td>Torgersen</td>\n",
       "      <td>36.7</td>\n",
       "      <td>19.3</td>\n",
       "      <td>193.0</td>\n",
       "      <td>3450.0</td>\n",
       "      <td>Female</td>\n",
       "    </tr>\n",
       "  </tbody>\n",
       "</table>\n",
       "</div>"
      ],
      "text/plain": [
       "  species     island  bill_length_mm  bill_depth_mm  flipper_length_mm  \\\n",
       "0  Adelie  Torgersen            39.1           18.7              181.0   \n",
       "1  Adelie  Torgersen            39.5           17.4              186.0   \n",
       "2  Adelie  Torgersen            40.3           18.0              195.0   \n",
       "3  Adelie  Torgersen             NaN            NaN                NaN   \n",
       "4  Adelie  Torgersen            36.7           19.3              193.0   \n",
       "\n",
       "   body_mass_g     sex  \n",
       "0       3750.0    Male  \n",
       "1       3800.0  Female  \n",
       "2       3250.0  Female  \n",
       "3          NaN     NaN  \n",
       "4       3450.0  Female  "
      ]
     },
     "execution_count": 3,
     "metadata": {},
     "output_type": "execute_result"
    }
   ],
   "source": [
    "p_df.head()"
   ]
  },
  {
   "cell_type": "code",
   "execution_count": 4,
   "id": "71b10938",
   "metadata": {},
   "outputs": [
    {
     "data": {
      "text/plain": [
       "<seaborn.axisgrid.FacetGrid at 0x12f913610>"
      ]
     },
     "execution_count": 4,
     "metadata": {},
     "output_type": "execute_result"
    },
    {
     "data": {
      "image/png": "[encoded data removed]",
      "text/plain": [
       "<Figure size 500x500 with 1 Axes>"
      ]
     },
     "metadata": {},
     "output_type": "display_data"
    }
   ],
   "source": [
    "sns.displot(p_df['body_mass_g'])"
   ]
  },
  {
   "cell_type": "code",
   "execution_count": 17,
   "id": "43ca0abd",
   "metadata": {},
   "outputs": [],
   "source": [
    "p_df.dropna(inplace=True)"
   ]
  },
  {
   "cell_type": "markdown",
   "id": "ccacc30c",
   "metadata": {},
   "source": [
    "# XY Split"
   ]
  },
  {
   "cell_type": "code",
   "execution_count": 19,
   "id": "06100272",
   "metadata": {},
   "outputs": [],
   "source": [
    "X = p_df['flipper_length_mm']\n",
    "y = p_df['body_mass_g']"
   ]
  },
  {
   "cell_type": "markdown",
   "id": "1a146a96",
   "metadata": {},
   "source": [
    "# test_train Split"
   ]
  },
  {
   "cell_type": "code",
   "execution_count": 20,
   "id": "e747af8f",
   "metadata": {},
   "outputs": [],
   "source": [
    "from sklearn.model_selection import train_test_split\n",
    "\n",
    "X_train,X_test,y_train, y_test = train_test_split(X,y,test_size = 0.2, random_state=42)"
   ]
  },
  {
   "cell_type": "code",
   "execution_count": 21,
   "id": "798a1cf4",
   "metadata": {},
   "outputs": [],
   "source": [
    "from sklearn.preprocessing import MinMaxScaler\n",
    "\n",
    "scaler = MinMaxScaler()\n",
    "\n",
    "scaler.fit((np.array(X_train).reshape(-1,1)))       # find parameters and reshape array / reshape brings into row - column shape\n",
    "X_train_scaled = scaler.transform((np.array(X_train).reshape(-1,1)))   #transform"
   ]
  },
  {
   "cell_type": "markdown",
   "id": "df6fd9f2",
   "metadata": {},
   "source": [
    "# ready for linear regression"
   ]
  },
  {
   "cell_type": "code",
   "execution_count": 22,
   "id": "d7b39e7e",
   "metadata": {},
   "outputs": [],
   "source": [
    "from sklearn.linear_model import LinearRegression\n",
    "\n",
    "lm = LinearRegression()\n",
    "\n",
    "model = lm.fit(X_train_scaled, y_train)"
   ]
  },
  {
   "cell_type": "code",
   "execution_count": 23,
   "id": "9e8c3d8f",
   "metadata": {},
   "outputs": [
    {
     "data": {
      "text/plain": [
       "array([2974.66093768])"
      ]
     },
     "execution_count": 23,
     "metadata": {},
     "output_type": "execute_result"
    }
   ],
   "source": [
    "model.coef_"
   ]
  },
  {
   "cell_type": "code",
   "execution_count": 24,
   "id": "841b5ca1",
   "metadata": {},
   "outputs": [
    {
     "data": {
      "text/plain": [
       "2752.6341612537126"
      ]
     },
     "execution_count": 24,
     "metadata": {},
     "output_type": "execute_result"
    }
   ],
   "source": [
    "model.intercept_"
   ]
  },
  {
   "cell_type": "markdown",
   "id": "56fe524b",
   "metadata": {},
   "source": [
    "# test scaled test data with real values, without fit to receive predictions!\n",
    "# then compare it to real y_test and receive residuals!\n"
   ]
  },
  {
   "cell_type": "code",
   "execution_count": 26,
   "id": "84c542e3",
   "metadata": {},
   "outputs": [],
   "source": [
    "X_test_scaled = scaler.transform((np.array(X_test).reshape(-1,1)))"
   ]
  },
  {
   "cell_type": "code",
   "execution_count": 27,
   "id": "bf1569cc",
   "metadata": {},
   "outputs": [
    {
     "data": {
      "text/plain": [
       "array([3055.14205322, 5273.53326098, 3912.24774713, 4063.50169311,\n",
       "       3760.99380115, 4769.35344104, 5323.95124298, 3912.24774713,\n",
       "       3811.41178314, 4214.7556391 , 3962.66572912, 4063.50169311,\n",
       "       4567.68151306, 3811.41178314, 4668.51747705, 3408.06792718,\n",
       "       3508.90389117, 3760.99380115, 3508.90389117, 4870.18940503,\n",
       "       3962.66572912, 3660.15783716, 5576.04115295, 4315.59160309,\n",
       "       3206.39599921, 3559.32187317, 4819.77142303, 4819.77142303,\n",
       "       3206.39599921, 5626.45913495, 3508.90389117, 5676.87711694,\n",
       "       4063.50169311, 4265.17362109, 5676.87711694, 4618.09949505,\n",
       "       3912.24774713, 4567.68151306, 3660.15783716, 3458.48590918,\n",
       "       3206.39599921, 3660.15783716, 4164.3376571 , 4113.91967511,\n",
       "       3609.73985516, 3508.90389117, 5223.11527899, 3559.32187317,\n",
       "       3660.15783716, 5122.279315  , 3760.99380115, 5021.44335101,\n",
       "       4718.93545904, 3155.97801721, 3710.57581915, 5172.697297  ,\n",
       "       3256.8139812 , 3912.24774713, 3962.66572912, 4315.59160309,\n",
       "       5576.04115295, 4920.60738702, 5172.697297  , 3811.41178314,\n",
       "       3811.41178314, 5424.78720697, 3912.24774713])"
      ]
     },
     "execution_count": 27,
     "metadata": {},
     "output_type": "execute_result"
    }
   ],
   "source": [
    "model.predict(X_test_scaled)"
   ]
  },
  {
   "cell_type": "code",
   "execution_count": 28,
   "id": "21a6bada",
   "metadata": {},
   "outputs": [],
   "source": [
    "y_pred = model.predict(X_test_scaled)"
   ]
  },
  {
   "cell_type": "code",
   "execution_count": 29,
   "id": "4aac791c",
   "metadata": {},
   "outputs": [],
   "source": [
    "residuals = (y_test - y_pred)"
   ]
  },
  {
   "cell_type": "code",
   "execution_count": 32,
   "id": "68cef03c",
   "metadata": {},
   "outputs": [],
   "source": [
    "res_df = pd.DataFrame({'y_test': y_test,'y_pred': y_pred,'residual': residuals})"
   ]
  },
  {
   "cell_type": "code",
   "execution_count": 31,
   "id": "09235cd5",
   "metadata": {},
   "outputs": [
    {
     "data": {
      "text/html": [
       "<div>\n",
       "<style scoped>\n",
       "    .dataframe tbody tr th:only-of-type {\n",
       "        vertical-align: middle;\n",
       "    }\n",
       "\n",
       "    .dataframe tbody tr th {\n",
       "        vertical-align: top;\n",
       "    }\n",
       "\n",
       "    .dataframe thead th {\n",
       "        text-align: right;\n",
       "    }\n",
       "</style>\n",
       "<table border=\"1\" class=\"dataframe\">\n",
       "  <thead>\n",
       "    <tr style=\"text-align: right;\">\n",
       "      <th></th>\n",
       "      <th>y_test</th>\n",
       "      <th>y_pred</th>\n",
       "      <th>residual</th>\n",
       "    </tr>\n",
       "  </thead>\n",
       "  <tbody>\n",
       "    <tr>\n",
       "      <th>30</th>\n",
       "      <td>3250.0</td>\n",
       "      <td>3055.142053</td>\n",
       "      <td>194.857947</td>\n",
       "    </tr>\n",
       "    <tr>\n",
       "      <th>317</th>\n",
       "      <td>4875.0</td>\n",
       "      <td>5273.533261</td>\n",
       "      <td>-398.533261</td>\n",
       "    </tr>\n",
       "    <tr>\n",
       "      <th>79</th>\n",
       "      <td>4000.0</td>\n",
       "      <td>3912.247747</td>\n",
       "      <td>87.752253</td>\n",
       "    </tr>\n",
       "    <tr>\n",
       "      <th>201</th>\n",
       "      <td>3675.0</td>\n",
       "      <td>4063.501693</td>\n",
       "      <td>-388.501693</td>\n",
       "    </tr>\n",
       "    <tr>\n",
       "      <th>63</th>\n",
       "      <td>4050.0</td>\n",
       "      <td>3760.993801</td>\n",
       "      <td>289.006199</td>\n",
       "    </tr>\n",
       "  </tbody>\n",
       "</table>\n",
       "</div>"
      ],
      "text/plain": [
       "     y_test       y_pred    residual\n",
       "30   3250.0  3055.142053  194.857947\n",
       "317  4875.0  5273.533261 -398.533261\n",
       "79   4000.0  3912.247747   87.752253\n",
       "201  3675.0  4063.501693 -388.501693\n",
       "63   4050.0  3760.993801  289.006199"
      ]
     },
     "execution_count": 31,
     "metadata": {},
     "output_type": "execute_result"
    }
   ],
   "source": [
    "res_df.head()"
   ]
  },
  {
   "cell_type": "markdown",
   "id": "e9cf9822",
   "metadata": {},
   "source": [
    "# MSE"
   ]
  },
  {
   "cell_type": "code",
   "execution_count": 33,
   "id": "d014df1b",
   "metadata": {},
   "outputs": [
    {
     "data": {
      "text/plain": [
       "129886.71972544753"
      ]
     },
     "execution_count": 33,
     "metadata": {},
     "output_type": "execute_result"
    }
   ],
   "source": [
    "from sklearn.metrics import mean_squared_error as mse\n",
    "\n",
    "mse(y_test,y_pred)  # mean squared error"
   ]
  },
  {
   "cell_type": "code",
   "execution_count": 34,
   "id": "8c4ec64a",
   "metadata": {},
   "outputs": [
    {
     "data": {
      "text/plain": [
       "360.398001833317"
      ]
     },
     "execution_count": 34,
     "metadata": {},
     "output_type": "execute_result"
    }
   ],
   "source": [
    "rmse = np.sqrt(mse(y_test,y_pred))  #root mean squared error"
   ]
  }
 ],
 "metadata": {
  "kernelspec": {
   "display_name": "Python 3 (ipykernel)",
   "language": "python",
   "name": "python3"
  },
  "language_info": {
   "codemirror_mode": {
    "name": "ipython",
    "version": 3
   },
   "file_extension": ".py",
   "mimetype": "text/x-python",
   "name": "python",
   "nbconvert_exporter": "python",
   "pygments_lexer": "ipython3",
   "version": "3.11.3"
  }
 },
 "nbformat": 4,
 "nbformat_minor": 5
}
