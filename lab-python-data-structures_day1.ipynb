{
 "cells": [
  {
   "cell_type": "markdown",
   "metadata": {
    "tags": []
   },
   "source": [
    "# Lab | Data Structures "
   ]
  },
  {
   "cell_type": "code",
   "execution_count": null,
   "metadata": {},
   "outputs": [],
   "source": []
  },
  {
   "cell_type": "markdown",
   "metadata": {},
   "source": [
    "## Exercise: Managing Customer Orders\n",
    "\n",
    "As part of a business venture, you are starting an online store that sells various products. To ensure smooth operations, you need to develop a program that manages customer orders and inventory.\n",
    "\n",
    "Follow the steps below to complete the exercise:\n",
    "\n",
    "1. Define a list called `products` that contains the following items: \"t-shirt\", \"mug\", \"hat\", \"book\", \"keychain\".\n",
    "\n",
    "2. Create an empty dictionary called `inventory`.\n",
    "\n",
    "3. Ask the user to input the quantity of each product available in the inventory. Use the product names from the `products` list as keys in the `inventory` dictionary and assign the respective quantities as values.\n",
    "\n",
    "4. Create an empty set called `customer_orders`.\n",
    "\n",
    "5. Ask the user to input the name of three products that a customer wants to order (from those in the products list, meaning three products out of \"t-shirt\", \"mug\", \"hat\", \"book\" or \"keychain\". Add each product name to the `customer_orders` set.\n",
    "\n",
    "6. Print the products in the `customer_orders` set.\n",
    "\n",
    "7. Calculate the following order statistics:\n",
    "   - Total Products Ordered: The total number of products in the `customer_orders` set.\n",
    "   - Percentage of Products Ordered: The percentage of products ordered compared to the total available products.\n",
    "   \n",
    "   Store these statistics in a tuple called `order_status`.\n",
    "\n",
    "8. Print the order statistics using the following format:\n",
    "   ```\n",
    "   Order Statistics:\n",
    "   Total Products Ordered: <total_products_ordered>\n",
    "   Percentage of Products Ordered: <percentage_ordered>% \n",
    "   ```\n",
    "\n",
    "9. Update the inventory by subtracting 1 from the quantity of each product. Modify the `inventory` dictionary accordingly.\n",
    "\n",
    "10. Print the updated inventory, displaying the quantity of each product on separate lines.\n",
    "\n",
    "Solve the exercise by implementing the steps using the Python concepts of lists, dictionaries, sets, and basic input/output operations. "
   ]
  },
  {
   "cell_type": "code",
   "execution_count": 3,
   "metadata": {},
   "outputs": [],
   "source": [
    "#list\n",
    "products=[\"t-shirt\",\"mug\",\"hat\",\"book\",\"keychain\"]"
   ]
  },
  {
   "cell_type": "code",
   "execution_count": 4,
   "metadata": {},
   "outputs": [],
   "source": [
    "#2\n",
    "inventory = {}"
   ]
  },
  {
   "cell_type": "code",
   "execution_count": 5,
   "metadata": {},
   "outputs": [
    {
     "name": "stdout",
     "output_type": "stream",
     "text": [
      "add quantity for shirt :500\n",
      "add quantity for mug :400\n",
      "add quantity for hat :300\n",
      "add quantity for book :200\n",
      "add quantity for keychain :100\n"
     ]
    }
   ],
   "source": [
    "#3 \n",
    "quant_shirt=int(input(\"add quantity for shirt :\"))\n",
    "quant_mug=int(input(\"add quantity for mug :\"))\n",
    "quant_hat=int(input(\"add quantity for hat :\"))\n",
    "quant_book=int(input(\"add quantity for book :\"))\n",
    "quant_keychain=int(input(\"add quantity for keychain :\"))\n",
    "\n",
    "inventory[\"t-shirt\"] = quant_shirt\n",
    "inventory[\"mug\"] = quant_mug\n",
    "inventory[\"hat\"] = quant_hat\n",
    "inventory[\"book\"] = quant_book\n",
    "inventory[\"keychain\"] = quant_keychain\n"
   ]
  },
  {
   "cell_type": "code",
   "execution_count": 6,
   "metadata": {},
   "outputs": [],
   "source": [
    "#4 set\n",
    "customer_orders={}"
   ]
  },
  {
   "cell_type": "code",
   "execution_count": 7,
   "metadata": {},
   "outputs": [
    {
     "name": "stdout",
     "output_type": "stream",
     "text": [
      "Add product1 to basket: mug\n",
      "Add product2 to basket: hat\n",
      "Add product3 to basket: book\n"
     ]
    }
   ],
   "source": [
    "#5\n",
    "product1=input(\"Add product1 to basket: \")\n",
    "product2=input(\"Add product2 to basket: \")\n",
    "product3=input(\"Add product3 to basket: \")"
   ]
  },
  {
   "cell_type": "code",
   "execution_count": 8,
   "metadata": {},
   "outputs": [
    {
     "name": "stdout",
     "output_type": "stream",
     "text": [
      "{'hat', 'book', 'mug'}\n"
     ]
    }
   ],
   "source": [
    "#6\n",
    "customer_orders={product1, product2, product3}\n",
    "print(customer_orders)         "
   ]
  },
  {
   "cell_type": "code",
   "execution_count": 9,
   "metadata": {},
   "outputs": [
    {
     "name": "stdout",
     "output_type": "stream",
     "text": [
      "add product1 to basket: hat\n"
     ]
    }
   ],
   "source": [
    "#alternative\n",
    "customer_orders.add(input(\"add product1 to basket: \"))"
   ]
  },
  {
   "cell_type": "code",
   "execution_count": 14,
   "metadata": {},
   "outputs": [],
   "source": [
    "#7\n",
    "total_products_ordered=int(len(customer_orders))\n",
    "percentage_ordered=(total_products_ordered/sum(inventory.values()))*100\n",
    "\n",
    "order_status=(total_products_ordered,percentage_ordered)"
   ]
  },
  {
   "cell_type": "code",
   "execution_count": 15,
   "metadata": {},
   "outputs": [],
   "source": [
    "#alternative\n",
    "\n",
    "#percentage_ordered=(total_products_ordered)/sum(inventory.values())*100"
   ]
  },
  {
   "cell_type": "code",
   "execution_count": 17,
   "metadata": {},
   "outputs": [
    {
     "name": "stdout",
     "output_type": "stream",
     "text": [
      "3\n",
      "0.2\n",
      "(3, 0.2)\n"
     ]
    }
   ],
   "source": [
    "#8\n",
    "print(total_products_ordered)\n",
    "print(percentage_ordered)\n",
    "print(order_status)"
   ]
  },
  {
   "cell_type": "code",
   "execution_count": 22,
   "metadata": {},
   "outputs": [],
   "source": [
    "#9\n",
    "\n",
    "inventory[\"t-shirt\"] = quant_shirt-1\n",
    "inventory[\"mug\"] = quant_mug-1\n",
    "inventory[\"hat\"] = quant_hat-1\n",
    "inventory[\"book\"] = quant_book-1\n",
    "inventory[\"keychain\"] = quant_keychain-1 "
   ]
  },
  {
   "cell_type": "code",
   "execution_count": 24,
   "metadata": {},
   "outputs": [
    {
     "name": "stdout",
     "output_type": "stream",
     "text": [
      "499\n",
      "299\n",
      "199\n",
      "399\n",
      "99\n"
     ]
    }
   ],
   "source": [
    "# 10\n",
    "\n",
    "print(inventory[\"t-shirt\"])\n",
    "print(inventory[\"mug\"])\n",
    "print(inventory[\"hat\"])\n",
    "print(inventory[\"book\"])\n",
    "print(inventory[\"keychain\"])"
   ]
  },
  {
   "cell_type": "code",
   "execution_count": null,
   "metadata": {},
   "outputs": [],
   "source": []
  }
 ],
 "metadata": {
  "kernelspec": {
   "display_name": "Python 3 (ipykernel)",
   "language": "python",
   "name": "python3"
  },
  "language_info": {
   "codemirror_mode": {
    "name": "ipython",
    "version": 3
   },
   "file_extension": ".py",
   "mimetype": "text/x-python",
   "name": "python",
   "nbconvert_exporter": "python",
   "pygments_lexer": "ipython3",
   "version": "3.11.3"
  }
 },
 "nbformat": 4,
 "nbformat_minor": 4
}
