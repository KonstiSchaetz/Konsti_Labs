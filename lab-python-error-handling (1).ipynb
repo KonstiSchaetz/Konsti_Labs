{
 "cells": [
  {
   "cell_type": "markdown",
   "id": "25d7736c-ba17-4aff-b6bb-66eba20fbf4e",
   "metadata": {},
   "source": [
    "# Lab | Error Handling"
   ]
  },
  {
   "cell_type": "code",
   "execution_count": null,
   "id": "0f7a6b02",
   "metadata": {},
   "outputs": [],
   "source": []
  },
  {
   "cell_type": "code",
   "execution_count": null,
   "id": "9cefdb0c",
   "metadata": {},
   "outputs": [],
   "source": []
  },
  {
   "cell_type": "markdown",
   "id": "04943c5e",
   "metadata": {},
   "source": [
    "## Exercise: Error Handling for Managing Customer Orders\n",
    "\n",
    "The implementation of your code for managing customer orders assumes that the user will always enter a valid input. \n",
    "\n",
    "For example, we could modify the `initialize_inventory` function to include error handling.\n",
    "   - If the user enters an invalid quantity (e.g., a negative value or a non-numeric value), display an error message and ask them to re-enter the quantity for that product.\n",
    "   - Use a try-except block to handle the error and continue prompting the user until a valid quantity is entered.\n",
    "\n",
    "```python\n",
    "# Step 1: Define the function for initializing the inventory with error handling\n",
    "def initialize_inventory(products):\n",
    "    inventory = {}\n",
    "    for product in products:\n",
    "        valid_quantity = False\n",
    "        while not valid_quantity:\n",
    "            try:\n",
    "                quantity = int(input(f\"Enter the quantity of {product}s available: \"))\n",
    "                if quantity < 0:\n",
    "                    raise ValueError(\"Invalid quantity! Please enter a non-negative value.\")\n",
    "                valid_quantity = True\n",
    "            except ValueError as error:\n",
    "                print(f\"Error: {error}\")\n",
    "        inventory[product] = quantity\n",
    "    return inventory\n",
    "\n",
    "# Or, in another way:\n",
    "\n",
    "def initialize_inventory(products):\n",
    "    inventory = {}\n",
    "    for product in products:\n",
    "        valid_input = False\n",
    "        while not valid_input:\n",
    "            try:\n",
    "                quantity = int(input(f\"Enter the quantity of {product}s available: \"))\n",
    "                if quantity >= 0:\n",
    "                    inventory[product] = quantity\n",
    "                    valid_input = True\n",
    "                else:\n",
    "                    print(\"Quantity cannot be negative. Please enter a valid quantity.\")\n",
    "            except ValueError:\n",
    "                print(\"Invalid input. Please enter a valid quantity.\")\n",
    "    return inventory\n",
    "```\n",
    "\n",
    "Let's enhance your code by implementing error handling to handle invalid inputs.\n",
    "\n",
    "Follow the steps below to complete the exercise:\n",
    "\n",
    "2. Modify the `calculate_total_price` function to include error handling.\n",
    "   - If the user enters an invalid price (e.g., a negative value or a non-numeric value), display an error message and ask them to re-enter the price for that product.\n",
    "   - Use a try-except block to handle the error and continue prompting the user until a valid price is entered.\n",
    "\n",
    "3. Modify the `get_customer_orders` function to include error handling.\n",
    "   - If the user enters an invalid number of orders (e.g., a negative value or a non-numeric value), display an error message and ask them to re-enter the number of orders.\n",
    "   - If the user enters an invalid product name (e.g., a product name that is not in the inventory), or that doesn't have stock available, display an error message and ask them to re-enter the product name. *Hint: you will need to pass inventory as a parameter*\n",
    "   - Use a try-except block to handle the error and continue prompting the user until a valid product name is entered.\n",
    "\n",
    "4. Test your code by running the program and deliberately entering invalid quantities and product names. Make sure the error handling mechanism works as expected.\n"
   ]
  },
  {
   "cell_type": "code",
   "execution_count": 11,
   "id": "f34faf1a",
   "metadata": {},
   "outputs": [
    {
     "name": "stdout",
     "output_type": "stream",
     "text": [
      "Enter the quantity of t-shirts available: 5\n",
      "Enter the quantity of mugs available: 4\n",
      "Enter the quantity of hats available: 3\n",
      "Enter the quantity of books available: 5\n",
      "Enter the quantity of keychains available: 3\n"
     ]
    },
    {
     "data": {
      "text/plain": [
       "{'t-shirt': 5, 'mug': 4, 'hat': 3, 'book': 5, 'keychain': 3}"
      ]
     },
     "execution_count": 11,
     "metadata": {},
     "output_type": "execute_result"
    }
   ],
   "source": [
    "#1\n",
    "# Step 1: Define the function for initializing the inventory with error handling\n",
    "products=[\"t-shirt\",\"mug\",\"hat\",\"book\",\"keychain\"]\n",
    "\n",
    "def initialize_inventory(products):\n",
    "    inventory = {}\n",
    "    for product in products:\n",
    "        valid_input = False\n",
    "        while not valid_input:\n",
    "            try:\n",
    "                quantity = int(input(f\"Enter the quantity of {product}s available: \"))\n",
    "                if quantity >= 0:\n",
    "                    inventory[product] = quantity\n",
    "                    valid_input = True\n",
    "                else:\n",
    "                    print(\"Quantity cannot be negative. Please enter a valid quantity.\")\n",
    "            except ValueError:\n",
    "                print(\"Invalid input. Please enter a valid quantity.\")\n",
    "    return inventory\n",
    "\n",
    "initialize_inventory(products)\n"
   ]
  },
  {
   "cell_type": "code",
   "execution_count": 56,
   "id": "2c6e331f",
   "metadata": {},
   "outputs": [
    {
     "name": "stdout",
     "output_type": "stream",
     "text": [
      "Enter the price of t-shirts available: 4\n",
      "Enter the price of mugs available: 4\n",
      "Enter the price of hats available: 4\n",
      "Enter the price of books available: 4\n",
      "Enter the price of keychains available: 4\n"
     ]
    },
    {
     "ename": "NameError",
     "evalue": "name 'xxx' is not defined",
     "output_type": "error",
     "traceback": [
      "\u001b[0;31m---------------------------------------------------------------------------\u001b[0m",
      "\u001b[0;31mNameError\u001b[0m                                 Traceback (most recent call last)",
      "Cell \u001b[0;32mIn[56], line 23\u001b[0m\n\u001b[1;32m     19\u001b[0m         \u001b[38;5;28mprint\u001b[39m(\u001b[38;5;124m\"\u001b[39m\u001b[38;5;124mInvalid input! Please enter a numeric value.\u001b[39m\u001b[38;5;124m\"\u001b[39m)\n\u001b[1;32m     21\u001b[0m     \u001b[38;5;28;01mreturn\u001b[39;00m total_price\n\u001b[0;32m---> 23\u001b[0m total_price(total_price)\n",
      "Cell \u001b[0;32mIn[56], line 12\u001b[0m, in \u001b[0;36mtotal_price\u001b[0;34m(price)\u001b[0m\n\u001b[1;32m      9\u001b[0m \u001b[38;5;28;01mtry\u001b[39;00m:    \n\u001b[1;32m     10\u001b[0m     dict_prices \u001b[38;5;241m=\u001b[39m {product: \u001b[38;5;28mint\u001b[39m(\u001b[38;5;28minput\u001b[39m(\u001b[38;5;124mf\u001b[39m\u001b[38;5;124m'\u001b[39m\u001b[38;5;124mEnter the price of \u001b[39m\u001b[38;5;132;01m{\u001b[39;00mproduct\u001b[38;5;132;01m}\u001b[39;00m\u001b[38;5;124ms available: \u001b[39m\u001b[38;5;124m'\u001b[39m)) \u001b[38;5;28;01mfor\u001b[39;00m product \u001b[38;5;129;01min\u001b[39;00m products}\n\u001b[0;32m---> 12\u001b[0m     \u001b[38;5;28;01mif\u001b[39;00m xxx \u001b[38;5;241m<\u001b[39m \u001b[38;5;241m0\u001b[39m:\n\u001b[1;32m     13\u001b[0m         \u001b[38;5;28;01mraise\u001b[39;00m \u001b[38;5;167;01mValueError\u001b[39;00m(\u001b[38;5;124m\"\u001b[39m\u001b[38;5;124mPrice cannot be negative! Please enter a valid price.\u001b[39m\u001b[38;5;124m\"\u001b[39m)\n\u001b[1;32m     15\u001b[0m     \u001b[38;5;28;01melse\u001b[39;00m:\n",
      "\u001b[0;31mNameError\u001b[0m: name 'xxx' is not defined"
     ]
    }
   ],
   "source": [
    "#2\n",
    "\n",
    "products=[\"t-shirt\",\"mug\",\"hat\",\"book\",\"keychain\"]\n",
    "\n",
    "    \n",
    "\n",
    "def total_price(price):\n",
    "    \n",
    "    try:    \n",
    "        dict_prices = {product: int(input(f'Enter the price of {product}s available: ')) for product in products}\n",
    "\n",
    "        if xxx < 0:\n",
    "            raise ValueError(\"Price cannot be negative! Please enter a valid price.\")\n",
    "        \n",
    "        else:\n",
    "            total_price = sum(dict_prices.values())\n",
    "    \n",
    "    except ValueError:\n",
    "        print(\"Invalid input! Please enter a numeric value.\")\n",
    "\n",
    "    return total_price\n",
    "\n",
    "total_price(total_price)"
   ]
  },
  {
   "cell_type": "code",
   "execution_count": null,
   "id": "614deb68",
   "metadata": {},
   "outputs": [],
   "source": []
  }
 ],
 "metadata": {
  "kernelspec": {
   "display_name": "Python 3 (ipykernel)",
   "language": "python",
   "name": "python3"
  },
  "language_info": {
   "codemirror_mode": {
    "name": "ipython",
    "version": 3
   },
   "file_extension": ".py",
   "mimetype": "text/x-python",
   "name": "python",
   "nbconvert_exporter": "python",
   "pygments_lexer": "ipython3",
   "version": "3.11.3"
  }
 },
 "nbformat": 4,
 "nbformat_minor": 5
}
